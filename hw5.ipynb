{
 "cells": [
  {
   "cell_type": "code",
   "execution_count": 49,
   "metadata": {
    "deletable": false,
    "editable": false
   },
   "outputs": [],
   "source": [
    "# Initialize Otter\n",
    "import otter\n",
    "grader = otter.Notebook(\"hw5.ipynb\")"
   ]
  },
  {
   "cell_type": "markdown",
   "metadata": {},
   "source": [
    "# CPSC 330 - Applied Machine Learning \n",
    "\n",
    "## Homework 5: Putting it all together \n",
    "### Associated lectures: All material till lecture 13 \n",
    "\n",
    "**Due date: Monday, October 28th, 2024 at 11:59pm**"
   ]
  },
  {
   "cell_type": "markdown",
   "metadata": {},
   "source": [
    "## Table of contents\n",
    "0. [Submission instructions](#si)\n",
    "1. [Understanding the problem](#1)\n",
    "2. [Data splitting](#2)\n",
    "3. [EDA](#3)\n",
    "4. [Feature engineering](#4)\n",
    "5. [Preprocessing and transformations](#5) \n",
    "6. [Baseline model](#6)\n",
    "7. [Linear models](#7)\n",
    "8. [Different models](#8)\n",
    "9. [Feature selection](#9)\n",
    "10. [Hyperparameter optimization](#10)\n",
    "11. [Interpretation and feature importances](#11) \n",
    "12. [Results on the test set](#12)\n",
    "13. [Summary of the results](#13)\n",
    "14. [Your takeaway from the course](#15)"
   ]
  },
  {
   "cell_type": "markdown",
   "metadata": {},
   "source": [
    "<div class=\"alert alert-info\">\n",
    "\n",
    "## Submission instructions\n",
    "<hr>\n",
    "rubric={points:4}\n",
    "\n",
    "**You may work with a partner on this homework and submit your assignment as a group.** Below are some instructions on working as a group.  \n",
    "- The maximum group size is 2. \n",
    "- Use group work as an opportunity to collaborate and learn new things from each other. \n",
    "- Be respectful to each other and make sure you understand all the concepts in the assignment well. \n",
    "- It's your responsibility to make sure that the assignment is submitted by one of the group members before the deadline. \n",
    "- You can find the instructions on how to do group submission on Gradescope [here](https://help.gradescope.com/article/m5qz2xsnjy-student-add-group-members).\n",
    "- If you would like to use late tokens for the homework, all group members must have the necessary late tokens available. Please note that the late tokens will be counted for all members of the group.   \n",
    "\n",
    "\n",
    "Follow the [homework submission instructions](https://github.com/UBC-CS/cpsc330-2024W1/blob/master/docs/homework_instructions.md). \n",
    "\n",
    "1. Before submitting the assignment, run all cells in your notebook to make sure there are no errors by doing `Kernel -> Restart Kernel and Clear All Outputs` and then `Run -> Run All Cells`. \n",
    "2. Notebooks with cell execution numbers out of order or not starting from \"1\" will have marks deducted. Notebooks without the output displayed may not be graded at all (because we need to see the output in order to grade your work).\n",
    "3. Follow the [CPSC 330 homework instructions](https://ubc-cs.github.io/cpsc330-2024W1/docs/homework_instructions.html), which include information on how to do your assignment and how to submit your assignment.\n",
    "4. Upload your solution on Gradescope. Check out this [Gradescope Student Guide](https://lthub.ubc.ca/guides/gradescope-student-guide/) if you need help with Gradescope submission. \n",
    "5. Make sure that the plots and output are rendered properly in your submitted file. If the .ipynb file is too big and doesn't render on Gradescope, also upload a pdf or html in addition to the .ipynb so that the TAs can view your submission on Gradescope.\n",
    "\n",
    "\n",
    "_Note: The assignments will get gradually more open-ended as we progress through the course. In many cases, there won't be a single correct solution. Sometimes you will have to make your own choices and your own decisions (for example, on what parameter values to use when they are not explicitly provided in the instructions). Use your own judgment in such cases and justify your choices, if necessary._\n",
    "\n",
    "</div>"
   ]
  },
  {
   "cell_type": "markdown",
   "metadata": {},
   "source": [
    "GradientBoostingClassifier with a final test score: 0.8199"
   ]
  },
  {
   "cell_type": "markdown",
   "metadata": {
    "deletable": false,
    "editable": false
   },
   "source": [
    "<!-- BEGIN QUESTION -->\n",
    "\n",
    "## Imports"
   ]
  },
  {
   "cell_type": "markdown",
   "metadata": {
    "deletable": false,
    "editable": false
   },
   "source": [
    "<div class=\"alert alert-warning\">\n",
    "    \n",
    "Imports\n",
    "    \n",
    "</div>\n",
    "\n",
    "_Points:_ 0"
   ]
  },
  {
   "cell_type": "code",
   "execution_count": 26,
   "metadata": {
    "tags": []
   },
   "outputs": [],
   "source": [
    "import numpy as np\n",
    "import pandas as pd\n",
    "import matplotlib.pyplot as plt\n",
    "import seaborn as sns\n",
    "from time import time\n",
    "from scipy.stats import randint\n",
    "import shap\n",
    "\n",
    "from sklearn.model_selection import train_test_split\n",
    "from sklearn.compose import ColumnTransformer\n",
    "from sklearn.preprocessing import StandardScaler, OneHotEncoder, OrdinalEncoder\n",
    "from sklearn.pipeline import Pipeline\n",
    "from sklearn.metrics import accuracy_score, confusion_matrix, classification_report\n",
    "from sklearn.model_selection import GridSearchCV, cross_val_score, RandomizedSearchCV\n",
    "from sklearn.impute import SimpleImputer\n",
    "from sklearn.feature_selection import RFECV\n",
    "\n",
    "from sklearn.linear_model import LogisticRegression\n",
    "from sklearn.ensemble import RandomForestClassifier\n",
    "from sklearn.svm import SVC\n",
    "from sklearn.ensemble import GradientBoostingClassifier\n",
    "from sklearn.dummy import DummyClassifier"
   ]
  },
  {
   "cell_type": "markdown",
   "metadata": {
    "deletable": false,
    "editable": false
   },
   "source": [
    "<!-- END QUESTION -->\n",
    "\n",
    "## Introduction <a name=\"in\"></a>\n",
    "\n",
    "In this homework you will be working on an open-ended mini-project, where you will put all the different things you have learned so far together to solve an interesting problem.\n",
    "\n",
    "A few notes and tips when you work on this mini-project: \n",
    "\n",
    "#### Tips\n",
    "1. This mini-project is open-ended, and while working on it, there might be some situations where you'll have to use your own judgment and make your own decisions (as you would be doing when you work as a data scientist). Make sure you explain your decisions whenever necessary. \n",
    "2. **Do not include everything you ever tried in your submission** -- it's fine just to have your final code. That said, your code should be reproducible and well-documented. For example, if you chose your hyperparameters based on some hyperparameter optimization experiment, you should leave in the code for that experiment so that someone else could re-run it and obtain the same hyperparameters, rather than mysteriously just setting the hyperparameters to some (carefully chosen) values in your code. \n",
    "3. If you realize that you are repeating a lot of code try to organize it in functions. Clear presentation of your code, experiments, and results is the key to be successful in this lab. You may use code from lecture notes or previous lab solutions with appropriate attributions. \n",
    "\n",
    "#### Assessment\n",
    "We plan to grade fairly and leniently. We don't have some secret target score that you need to achieve to get a good grade. **You'll be assessed on demonstration of mastery of course topics, clear presentation, and the quality of your analysis and results.** For example, if you just have a bunch of code and no text or figures, that's not good. If you do a bunch of sane things and get a lower accuracy than your friend, don't sweat it.\n",
    "\n",
    "\n",
    "#### A final note\n",
    "Finally, this style of this \"project\" question is different from other assignments. It'll be up to you to decide when you're \"done\" -- in fact, this is one of the hardest parts of real projects. But please don't spend WAY too much time on this... perhaps \"a few hours\" (15-20 hours???) is a good guideline for this project . Of course if you're having fun you're welcome to spend as much time as you want! But, if so, try not to do it out of perfectionism or getting the best possible grade. Do it because you're learning and enjoying it. Students from the past cohorts have found such kind of labs useful and fun and I hope you enjoy it as well. "
   ]
  },
  {
   "cell_type": "markdown",
   "metadata": {},
   "source": [
    "<br><br>"
   ]
  },
  {
   "cell_type": "markdown",
   "metadata": {
    "deletable": false,
    "editable": false
   },
   "source": [
    "<!-- BEGIN QUESTION -->\n",
    "\n",
    "## 1. Pick your problem and explain the prediction problem <a name=\"1\"></a>\n",
    "<hr>\n",
    "rubric={points:3}\n",
    "\n",
    "In this mini project, you have the option to choose on which dataset you will be working on. The tasks you will need to carry on will be similar, independently of your choice.\n",
    "\n",
    "### Option 1\n",
    "You can choose to work on a classification problem of predicting whether a credit card client will default or not. \n",
    "For this problem, you will use [Default of Credit Card Clients Dataset](https://www.kaggle.com/uciml/default-of-credit-card-clients-dataset). In this data set, there are 30,000 examples and 24 features, and the goal is to estimate whether a person will default (fail to pay) their credit card bills; this column is labeled \"default.payment.next.month\" in the data. The rest of the columns can be used as features. You may take some ideas and compare your results with [the associated research paper](https://www.sciencedirect.com/science/article/pii/S0957417407006719), which is available through [the UBC library](https://www.library.ubc.ca/). \n",
    "\n",
    "\n",
    "### Option 2\n",
    "You can choose to work on a regression problem using a [dataset](https://www.kaggle.com/dgomonov/new-york-city-airbnb-open-data) of New York City Airbnb listings from 2019. As usual, you'll need to start by downloading the dataset, then you will try to predict `reviews_per_month`, as a proxy for the popularity of the listing. Airbnb could use this sort of model to predict how popular future listings might be before they are posted, perhaps to help guide hosts create more appealing listings. In reality they might instead use something like vacancy rate or average rating as their target, but we do not have that available here.\n",
    "\n",
    "> Note there is an updated version of this dataset with more features available [here](http://insideairbnb.com/). The features were are using in `listings.csv.gz` for the New York city datasets. You will also see some other files like `reviews.csv.gz`. For your own interest you may want to explore the expanded dataset and try your analysis there. However, please submit your results on the dataset obtained from Kaggle.\n",
    "\n",
    "\n",
    "**Your tasks:**\n",
    "\n",
    "1. Spend some time understanding the options and pick the one you find more interesting (it may help spending some time looking at the documentation available on Kaggle for each dataset).\n",
    "2. After making your choice, focus on understanding the problem and what each feature means, again using the documentation on the dataset page on Kaggle. Write a few sentences on your initial thoughts on the problem and the dataset. \n",
    "3. Download the dataset and read it as a pandas dataframe. "
   ]
  },
  {
   "cell_type": "markdown",
   "metadata": {
    "deletable": false,
    "editable": false
   },
   "source": [
    "<div class=\"alert alert-warning\">\n",
    "    \n",
    "Solution_1\n",
    "    \n",
    "</div>\n",
    "\n",
    "_Points:_ 3"
   ]
  },
  {
   "cell_type": "markdown",
   "metadata": {},
   "source": [
    "The goal is to predict whether a credit card client will default next month, making this a binary classification problem. The target variable is default.payment.next.month, which indicates if the client defaults (1) or not (0). \n",
    "The dataset contains 25 features, including demographic information (SEX, AGE, EDUCATION), credit information (LIMIT_BAL), and repayment history (PAY_0 to PAY_6). Features like bill amounts and payments over the past six months may significantly affect the prediction."
   ]
  },
  {
   "cell_type": "code",
   "execution_count": 27,
   "metadata": {
    "tags": []
   },
   "outputs": [
    {
     "data": {
      "text/html": [
       "<div>\n",
       "<style scoped>\n",
       "    .dataframe tbody tr th:only-of-type {\n",
       "        vertical-align: middle;\n",
       "    }\n",
       "\n",
       "    .dataframe tbody tr th {\n",
       "        vertical-align: top;\n",
       "    }\n",
       "\n",
       "    .dataframe thead th {\n",
       "        text-align: right;\n",
       "    }\n",
       "</style>\n",
       "<table border=\"1\" class=\"dataframe\">\n",
       "  <thead>\n",
       "    <tr style=\"text-align: right;\">\n",
       "      <th></th>\n",
       "      <th>ID</th>\n",
       "      <th>LIMIT_BAL</th>\n",
       "      <th>SEX</th>\n",
       "      <th>EDUCATION</th>\n",
       "      <th>MARRIAGE</th>\n",
       "      <th>AGE</th>\n",
       "      <th>PAY_0</th>\n",
       "      <th>PAY_2</th>\n",
       "      <th>PAY_3</th>\n",
       "      <th>PAY_4</th>\n",
       "      <th>...</th>\n",
       "      <th>BILL_AMT4</th>\n",
       "      <th>BILL_AMT5</th>\n",
       "      <th>BILL_AMT6</th>\n",
       "      <th>PAY_AMT1</th>\n",
       "      <th>PAY_AMT2</th>\n",
       "      <th>PAY_AMT3</th>\n",
       "      <th>PAY_AMT4</th>\n",
       "      <th>PAY_AMT5</th>\n",
       "      <th>PAY_AMT6</th>\n",
       "      <th>default.payment.next.month</th>\n",
       "    </tr>\n",
       "  </thead>\n",
       "  <tbody>\n",
       "    <tr>\n",
       "      <th>0</th>\n",
       "      <td>1</td>\n",
       "      <td>20000.0</td>\n",
       "      <td>2</td>\n",
       "      <td>2</td>\n",
       "      <td>1</td>\n",
       "      <td>24</td>\n",
       "      <td>2</td>\n",
       "      <td>2</td>\n",
       "      <td>-1</td>\n",
       "      <td>-1</td>\n",
       "      <td>...</td>\n",
       "      <td>0.0</td>\n",
       "      <td>0.0</td>\n",
       "      <td>0.0</td>\n",
       "      <td>0.0</td>\n",
       "      <td>689.0</td>\n",
       "      <td>0.0</td>\n",
       "      <td>0.0</td>\n",
       "      <td>0.0</td>\n",
       "      <td>0.0</td>\n",
       "      <td>1</td>\n",
       "    </tr>\n",
       "    <tr>\n",
       "      <th>1</th>\n",
       "      <td>2</td>\n",
       "      <td>120000.0</td>\n",
       "      <td>2</td>\n",
       "      <td>2</td>\n",
       "      <td>2</td>\n",
       "      <td>26</td>\n",
       "      <td>-1</td>\n",
       "      <td>2</td>\n",
       "      <td>0</td>\n",
       "      <td>0</td>\n",
       "      <td>...</td>\n",
       "      <td>3272.0</td>\n",
       "      <td>3455.0</td>\n",
       "      <td>3261.0</td>\n",
       "      <td>0.0</td>\n",
       "      <td>1000.0</td>\n",
       "      <td>1000.0</td>\n",
       "      <td>1000.0</td>\n",
       "      <td>0.0</td>\n",
       "      <td>2000.0</td>\n",
       "      <td>1</td>\n",
       "    </tr>\n",
       "    <tr>\n",
       "      <th>2</th>\n",
       "      <td>3</td>\n",
       "      <td>90000.0</td>\n",
       "      <td>2</td>\n",
       "      <td>2</td>\n",
       "      <td>2</td>\n",
       "      <td>34</td>\n",
       "      <td>0</td>\n",
       "      <td>0</td>\n",
       "      <td>0</td>\n",
       "      <td>0</td>\n",
       "      <td>...</td>\n",
       "      <td>14331.0</td>\n",
       "      <td>14948.0</td>\n",
       "      <td>15549.0</td>\n",
       "      <td>1518.0</td>\n",
       "      <td>1500.0</td>\n",
       "      <td>1000.0</td>\n",
       "      <td>1000.0</td>\n",
       "      <td>1000.0</td>\n",
       "      <td>5000.0</td>\n",
       "      <td>0</td>\n",
       "    </tr>\n",
       "    <tr>\n",
       "      <th>3</th>\n",
       "      <td>4</td>\n",
       "      <td>50000.0</td>\n",
       "      <td>2</td>\n",
       "      <td>2</td>\n",
       "      <td>1</td>\n",
       "      <td>37</td>\n",
       "      <td>0</td>\n",
       "      <td>0</td>\n",
       "      <td>0</td>\n",
       "      <td>0</td>\n",
       "      <td>...</td>\n",
       "      <td>28314.0</td>\n",
       "      <td>28959.0</td>\n",
       "      <td>29547.0</td>\n",
       "      <td>2000.0</td>\n",
       "      <td>2019.0</td>\n",
       "      <td>1200.0</td>\n",
       "      <td>1100.0</td>\n",
       "      <td>1069.0</td>\n",
       "      <td>1000.0</td>\n",
       "      <td>0</td>\n",
       "    </tr>\n",
       "    <tr>\n",
       "      <th>4</th>\n",
       "      <td>5</td>\n",
       "      <td>50000.0</td>\n",
       "      <td>1</td>\n",
       "      <td>2</td>\n",
       "      <td>1</td>\n",
       "      <td>57</td>\n",
       "      <td>-1</td>\n",
       "      <td>0</td>\n",
       "      <td>-1</td>\n",
       "      <td>0</td>\n",
       "      <td>...</td>\n",
       "      <td>20940.0</td>\n",
       "      <td>19146.0</td>\n",
       "      <td>19131.0</td>\n",
       "      <td>2000.0</td>\n",
       "      <td>36681.0</td>\n",
       "      <td>10000.0</td>\n",
       "      <td>9000.0</td>\n",
       "      <td>689.0</td>\n",
       "      <td>679.0</td>\n",
       "      <td>0</td>\n",
       "    </tr>\n",
       "  </tbody>\n",
       "</table>\n",
       "<p>5 rows × 25 columns</p>\n",
       "</div>"
      ],
      "text/plain": [
       "   ID  LIMIT_BAL  SEX  EDUCATION  MARRIAGE  AGE  PAY_0  PAY_2  PAY_3  PAY_4  \\\n",
       "0   1    20000.0    2          2         1   24      2      2     -1     -1   \n",
       "1   2   120000.0    2          2         2   26     -1      2      0      0   \n",
       "2   3    90000.0    2          2         2   34      0      0      0      0   \n",
       "3   4    50000.0    2          2         1   37      0      0      0      0   \n",
       "4   5    50000.0    1          2         1   57     -1      0     -1      0   \n",
       "\n",
       "   ...  BILL_AMT4  BILL_AMT5  BILL_AMT6  PAY_AMT1  PAY_AMT2  PAY_AMT3  \\\n",
       "0  ...        0.0        0.0        0.0       0.0     689.0       0.0   \n",
       "1  ...     3272.0     3455.0     3261.0       0.0    1000.0    1000.0   \n",
       "2  ...    14331.0    14948.0    15549.0    1518.0    1500.0    1000.0   \n",
       "3  ...    28314.0    28959.0    29547.0    2000.0    2019.0    1200.0   \n",
       "4  ...    20940.0    19146.0    19131.0    2000.0   36681.0   10000.0   \n",
       "\n",
       "   PAY_AMT4  PAY_AMT5  PAY_AMT6  default.payment.next.month  \n",
       "0       0.0       0.0       0.0                           1  \n",
       "1    1000.0       0.0    2000.0                           1  \n",
       "2    1000.0    1000.0    5000.0                           0  \n",
       "3    1100.0    1069.0    1000.0                           0  \n",
       "4    9000.0     689.0     679.0                           0  \n",
       "\n",
       "[5 rows x 25 columns]"
      ]
     },
     "execution_count": 27,
     "metadata": {},
     "output_type": "execute_result"
    }
   ],
   "source": [
    "df = pd.read_csv('UCI_Credit_Card.csv')\n",
    "df.head()"
   ]
  },
  {
   "cell_type": "markdown",
   "metadata": {
    "deletable": false,
    "editable": false
   },
   "source": [
    "<!-- END QUESTION -->\n",
    "\n",
    "<br><br>"
   ]
  },
  {
   "cell_type": "markdown",
   "metadata": {
    "deletable": false,
    "editable": false
   },
   "source": [
    "<!-- BEGIN QUESTION -->\n",
    "\n",
    "## 2. Data splitting <a name=\"2\"></a>\n",
    "<hr>\n",
    "rubric={points:2}\n",
    "\n",
    "**Your tasks:**\n",
    "\n",
    "1. Split the data into train (70%) and test (30%) portions with `random_state=123`.\n",
    "\n",
    "> If your computer cannot handle training on 70% training data, make the test split bigger.  "
   ]
  },
  {
   "cell_type": "markdown",
   "metadata": {
    "deletable": false,
    "editable": false
   },
   "source": [
    "<div class=\"alert alert-warning\">\n",
    "    \n",
    "Solution_2\n",
    "    \n",
    "</div>\n",
    "\n",
    "_Points:_ 2"
   ]
  },
  {
   "cell_type": "code",
   "execution_count": 28,
   "metadata": {
    "tags": []
   },
   "outputs": [],
   "source": [
    "X = df.drop(columns=['ID', 'default.payment.next.month'])\n",
    "y = df['default.payment.next.month']\n",
    "\n",
    "X_train, X_test, y_train, y_test = train_test_split(X, y, test_size=0.7, random_state=123)"
   ]
  },
  {
   "cell_type": "markdown",
   "metadata": {
    "deletable": false,
    "editable": false
   },
   "source": [
    "<!-- END QUESTION -->\n",
    "\n",
    "<br><br>"
   ]
  },
  {
   "cell_type": "markdown",
   "metadata": {
    "deletable": false,
    "editable": false
   },
   "source": [
    "<!-- BEGIN QUESTION -->\n",
    "\n",
    "## 3. EDA <a name=\"3\"></a>\n",
    "<hr>\n",
    "rubric={points:10}\n",
    "\n",
    "**Your tasks:**\n",
    "\n",
    "1. Perform exploratory data analysis on the train set.\n",
    "2. Include at least two summary statistics and two visualizations that you find useful, and accompany each one with a sentence explaining it.\n",
    "3. Summarize your initial observations about the data. \n",
    "4. Pick appropriate metric/metrics for assessment. "
   ]
  },
  {
   "cell_type": "markdown",
   "metadata": {
    "deletable": false,
    "editable": false
   },
   "source": [
    "<div class=\"alert alert-warning\">\n",
    "    \n",
    "Solution_3\n",
    "    \n",
    "</div>\n",
    "\n",
    "_Points:_ 10"
   ]
  },
  {
   "cell_type": "markdown",
   "metadata": {},
   "source": [
    "_Type your answer here, replacing this text._"
   ]
  },
  {
   "cell_type": "code",
   "execution_count": 29,
   "metadata": {
    "tags": []
   },
   "outputs": [
    {
     "name": "stdout",
     "output_type": "stream",
     "text": [
      "Summary Statistics (Training Set):\n",
      "          LIMIT_BAL          SEX    EDUCATION     MARRIAGE          AGE  \\\n",
      "count    9000.00000  9000.000000  9000.000000  9000.000000  9000.000000   \n",
      "mean   166457.52000     1.601556     1.859333     1.551778    35.523111   \n",
      "std    129368.23268     0.489605     0.788003     0.520485     9.214976   \n",
      "min     10000.00000     1.000000     0.000000     0.000000    21.000000   \n",
      "25%     50000.00000     1.000000     1.000000     1.000000    28.000000   \n",
      "50%    140000.00000     2.000000     2.000000     2.000000    34.000000   \n",
      "75%    240000.00000     2.000000     2.000000     2.000000    41.000000   \n",
      "max    800000.00000     2.000000     6.000000     3.000000    75.000000   \n",
      "\n",
      "             PAY_0        PAY_2        PAY_3        PAY_4        PAY_5  ...  \\\n",
      "count  9000.000000  9000.000000  9000.000000  9000.000000  9000.000000  ...   \n",
      "mean     -0.004778    -0.139778    -0.177222    -0.220556    -0.263778  ...   \n",
      "std       1.118334     1.183759     1.188545     1.162590     1.139156  ...   \n",
      "min      -2.000000    -2.000000    -2.000000    -2.000000    -2.000000  ...   \n",
      "25%      -1.000000    -1.000000    -1.000000    -1.000000    -1.000000  ...   \n",
      "50%       0.000000     0.000000     0.000000     0.000000     0.000000  ...   \n",
      "75%       0.000000     0.000000     0.000000     0.000000     0.000000  ...   \n",
      "max       8.000000     7.000000     8.000000     7.000000     7.000000  ...   \n",
      "\n",
      "           BILL_AMT3      BILL_AMT4      BILL_AMT5      BILL_AMT6  \\\n",
      "count    9000.000000    9000.000000    9000.000000    9000.000000   \n",
      "mean    46281.131889   42695.655667   39527.160000   38207.757778   \n",
      "std     67918.812205   63744.300895   59601.026224   59002.238146   \n",
      "min   -157264.000000  -50616.000000  -61372.000000 -339603.000000   \n",
      "25%      2722.500000    2192.750000    1651.000000    1099.750000   \n",
      "50%     20092.000000   18936.500000   18022.500000   16926.000000   \n",
      "75%     59328.000000   52422.000000   49103.250000   48445.000000   \n",
      "max    693131.000000  565669.000000  524315.000000  514975.000000   \n",
      "\n",
      "            PAY_AMT1      PAY_AMT2       PAY_AMT3       PAY_AMT4  \\\n",
      "count    9000.000000  9.000000e+03    9000.000000    9000.000000   \n",
      "mean     5460.077889  5.684092e+03    5056.576000    4562.583222   \n",
      "std     15327.621071  2.093329e+04   15548.844369   12865.348715   \n",
      "min         0.000000  0.000000e+00       0.000000       0.000000   \n",
      "25%      1000.000000  8.735000e+02     390.000000     269.750000   \n",
      "50%      2100.000000  2.005000e+03    1780.000000    1500.000000   \n",
      "75%      5007.250000  5.000000e+03    4500.000000    4000.000000   \n",
      "max    493358.000000  1.227082e+06  417588.000000  211250.000000   \n",
      "\n",
      "            PAY_AMT5       PAY_AMT6  \n",
      "count    9000.000000    9000.000000  \n",
      "mean     4800.025000    4965.094333  \n",
      "std     15921.896251   15644.760603  \n",
      "min         0.000000       0.000000  \n",
      "25%       183.500000      57.500000  \n",
      "50%      1500.000000    1500.000000  \n",
      "75%      4000.000000    4000.000000  \n",
      "max    426529.000000  345293.000000  \n",
      "\n",
      "[8 rows x 23 columns]\n",
      "The descriptive statistics for each feature reveal the mean, spread, and range of values in the training set, helping to identify any potential outliers or skewness in the data distribution.\n"
     ]
    }
   ],
   "source": [
    "print(\"Summary Statistics (Training Set):\")\n",
    "print(X_train.describe())\n",
    "print(\"The descriptive statistics for each feature reveal the mean, spread, and range of values in the training set, helping to identify any potential outliers or skewness in the data distribution.\")"
   ]
  },
  {
   "cell_type": "code",
   "execution_count": 30,
   "metadata": {
    "tags": []
   },
   "outputs": [
    {
     "name": "stdout",
     "output_type": "stream",
     "text": [
      "\n",
      "Target Variable Distribution (Training Set):\n",
      "default.payment.next.month\n",
      "0    0.774333\n",
      "1    0.225667\n",
      "Name: proportion, dtype: float64\n",
      "The class distribution in the target variable shows a significant imbalance, with approximately 22% defaults and 78% non-defaults. It could impact model performance.\n"
     ]
    }
   ],
   "source": [
    "print(\"\\nTarget Variable Distribution (Training Set):\")\n",
    "print(y_train.value_counts(normalize=True))  # Distribution of target variable (default/no default)\n",
    "print(\"The class distribution in the target variable shows a significant imbalance, with approximately 22% defaults and 78% non-defaults. It could impact model performance.\")"
   ]
  },
  {
   "cell_type": "code",
   "execution_count": 31,
   "metadata": {
    "tags": []
   },
   "outputs": [
    {
     "data": {
      "image/png": "[encoded data removed]",
      "text/plain": [
       "<Figure size 1000x800 with 2 Axes>"
      ]
     },
     "metadata": {},
     "output_type": "display_data"
    },
    {
     "name": "stdout",
     "output_type": "stream",
     "text": [
      "This heatmap displays the correlation coefficients between features, highlighting strong positive correlations among the PAY_* and BILL_AMT* features. This suggests patterns in payment history and billing amounts that could be relevant for predicting credit defaults.\n"
     ]
    }
   ],
   "source": [
    "# Visualization 1: Correlation heatmap of features\n",
    "plt.figure(figsize=(10, 8))\n",
    "sns.set(font_scale=0.5)\n",
    "sns.heatmap(X_train.corr(), annot=True, cmap=\"coolwarm\")\n",
    "plt.title(\"Feature Correlation Heatmap\")\n",
    "plt.show()\n",
    "print(\"This heatmap displays the correlation coefficients between features, highlighting strong positive correlations among the PAY_* and BILL_AMT* features. This suggests patterns in payment history and billing amounts that could be relevant for predicting credit defaults.\")"
   ]
  },
  {
   "cell_type": "code",
   "execution_count": 32,
   "metadata": {
    "tags": []
   },
   "outputs": [
    {
     "data": {
      "image/png": "[encoded data removed]",
      "text/plain": [
       "<Figure size 800x600 with 1 Axes>"
      ]
     },
     "metadata": {},
     "output_type": "display_data"
    },
    {
     "name": "stdout",
     "output_type": "stream",
     "text": [
      "This boxplot shows the distribution of credit limits across default statuses, revealing that while credit limits vary widely for both classes, non-defaulters generally have a slightly higher median credit limit, with notable outliers in both groups.\n"
     ]
    }
   ],
   "source": [
    "# Visualization 2: Boxplot of LIMIT_BAL grouped by default status\n",
    "plt.figure(figsize=(8, 6))\n",
    "sns.boxplot(x=y_train, y=X_train['LIMIT_BAL'])\n",
    "plt.title(\"Boxplot of LIMIT_BAL by Default Status\")\n",
    "plt.xlabel(\"Default (1) vs No Default (0)\")\n",
    "plt.ylabel(\"Credit Limit (LIMIT_BAL)\")\n",
    "plt.show()\n",
    "print(\"This boxplot shows the distribution of credit limits across default statuses, revealing that while credit limits vary widely for both classes, non-defaulters generally have a slightly higher median credit limit, with notable outliers in both groups.\")"
   ]
  },
  {
   "cell_type": "markdown",
   "metadata": {
    "tags": []
   },
   "source": [
    "1. Class Imbalance: There appears to be a class imbalance in the target, with approximately 22% defaults and 78% non-defaults. This imbalance could affect model performance, as most models tend to favor the majority class.\n",
    "2. Correlations: From the heatmap, there are high correlations among the PAY_* features, suggesting that payment history behaviors are closely related. This could be useful for predicting defaults but may also indicate multicollinearity.\n",
    "3. Credit Limit Variation: The boxplot of LIMIT_BAL shows a noticeable range across both classes, with some high outliers. People with high credit limits may behave differently, which could affect model predictions.\n",
    "4. Bill and Payment Amounts: The bill and payment amounts across different months show substantial variation, with many outliers. These features likely contain useful information for predicting whether someone will default."
   ]
  },
  {
   "cell_type": "markdown",
   "metadata": {
    "tags": []
   },
   "source": [
    "1. Precision and Recall: Since we are particularly interested in identifying defaults, it may be helpful to monitor precision and recall, especially for the positive class (defaults).\n",
    "2. F1 Score: The F1 score (harmonic mean of precision and recall) would be suitable here, as it balances both metrics and is less sensitive to class imbalance.\n",
    "3. AUC-ROC: The area under the ROC curve (AUC-ROC) is also a valuable metric, as it measures the model’s ability to discriminate between the two classes across all thresholds."
   ]
  },
  {
   "cell_type": "markdown",
   "metadata": {
    "deletable": false,
    "editable": false
   },
   "source": [
    "<!-- END QUESTION -->\n",
    "\n",
    "<br><br>"
   ]
  },
  {
   "cell_type": "markdown",
   "metadata": {
    "deletable": false,
    "editable": false
   },
   "source": [
    "<!-- BEGIN QUESTION -->\n",
    "\n",
    "## 4. Feature engineering <a name=\"4\"></a>\n",
    "<hr>\n",
    "rubric={points:1}\n",
    "\n",
    "**Your tasks:**\n",
    "\n",
    "1. Carry out feature engineering. In other words, extract new features relevant for the problem and work with your new feature set in the following exercises. You may have to go back and forth between feature engineering and preprocessing. "
   ]
  },
  {
   "cell_type": "markdown",
   "metadata": {
    "deletable": false,
    "editable": false
   },
   "source": [
    "<div class=\"alert alert-warning\">\n",
    "    \n",
    "Solution_4\n",
    "    \n",
    "</div>\n",
    "\n",
    "_Points:_ 1"
   ]
  },
  {
   "cell_type": "code",
   "execution_count": 33,
   "metadata": {},
   "outputs": [
    {
     "data": {
      "text/html": [
       "<div>\n",
       "<style scoped>\n",
       "    .dataframe tbody tr th:only-of-type {\n",
       "        vertical-align: middle;\n",
       "    }\n",
       "\n",
       "    .dataframe tbody tr th {\n",
       "        vertical-align: top;\n",
       "    }\n",
       "\n",
       "    .dataframe thead th {\n",
       "        text-align: right;\n",
       "    }\n",
       "</style>\n",
       "<table border=\"1\" class=\"dataframe\">\n",
       "  <thead>\n",
       "    <tr style=\"text-align: right;\">\n",
       "      <th></th>\n",
       "      <th>LIMIT_BAL</th>\n",
       "      <th>SEX</th>\n",
       "      <th>EDUCATION</th>\n",
       "      <th>MARRIAGE</th>\n",
       "      <th>AGE</th>\n",
       "      <th>PAY_0</th>\n",
       "      <th>PAY_2</th>\n",
       "      <th>PAY_3</th>\n",
       "      <th>PAY_4</th>\n",
       "      <th>PAY_5</th>\n",
       "      <th>...</th>\n",
       "      <th>PAY_RATIO_1</th>\n",
       "      <th>PAY_RATIO_2</th>\n",
       "      <th>PAY_RATIO_3</th>\n",
       "      <th>PAY_RATIO_4</th>\n",
       "      <th>PAY_RATIO_5</th>\n",
       "      <th>PAY_RATIO_6</th>\n",
       "      <th>TOTAL_PAY</th>\n",
       "      <th>TOTAL_BILL</th>\n",
       "      <th>CREDIT_UTILIZATION</th>\n",
       "      <th>LATE_PAYMENTS</th>\n",
       "    </tr>\n",
       "  </thead>\n",
       "  <tbody>\n",
       "    <tr>\n",
       "      <th>25665</th>\n",
       "      <td>40000.0</td>\n",
       "      <td>2</td>\n",
       "      <td>2</td>\n",
       "      <td>2</td>\n",
       "      <td>26</td>\n",
       "      <td>-1</td>\n",
       "      <td>0</td>\n",
       "      <td>0</td>\n",
       "      <td>0</td>\n",
       "      <td>-1</td>\n",
       "      <td>...</td>\n",
       "      <td>0.044842</td>\n",
       "      <td>0.040999</td>\n",
       "      <td>0.000000</td>\n",
       "      <td>NaN</td>\n",
       "      <td>0.015446</td>\n",
       "      <td>0.534845</td>\n",
       "      <td>35353.0</td>\n",
       "      <td>129703.0</td>\n",
       "      <td>3.242575</td>\n",
       "      <td>0</td>\n",
       "    </tr>\n",
       "    <tr>\n",
       "      <th>16464</th>\n",
       "      <td>80000.0</td>\n",
       "      <td>2</td>\n",
       "      <td>3</td>\n",
       "      <td>1</td>\n",
       "      <td>59</td>\n",
       "      <td>0</td>\n",
       "      <td>0</td>\n",
       "      <td>0</td>\n",
       "      <td>0</td>\n",
       "      <td>0</td>\n",
       "      <td>...</td>\n",
       "      <td>0.042452</td>\n",
       "      <td>0.030054</td>\n",
       "      <td>0.037616</td>\n",
       "      <td>0.031509</td>\n",
       "      <td>0.037779</td>\n",
       "      <td>0.040550</td>\n",
       "      <td>12830.0</td>\n",
       "      <td>349621.0</td>\n",
       "      <td>4.370262</td>\n",
       "      <td>0</td>\n",
       "    </tr>\n",
       "    <tr>\n",
       "      <th>22386</th>\n",
       "      <td>170000.0</td>\n",
       "      <td>2</td>\n",
       "      <td>1</td>\n",
       "      <td>2</td>\n",
       "      <td>30</td>\n",
       "      <td>2</td>\n",
       "      <td>2</td>\n",
       "      <td>2</td>\n",
       "      <td>2</td>\n",
       "      <td>2</td>\n",
       "      <td>...</td>\n",
       "      <td>0.043615</td>\n",
       "      <td>0.040927</td>\n",
       "      <td>0.000000</td>\n",
       "      <td>0.082499</td>\n",
       "      <td>0.032720</td>\n",
       "      <td>0.005851</td>\n",
       "      <td>32800.0</td>\n",
       "      <td>972809.0</td>\n",
       "      <td>5.722406</td>\n",
       "      <td>5</td>\n",
       "    </tr>\n",
       "    <tr>\n",
       "      <th>10149</th>\n",
       "      <td>200000.0</td>\n",
       "      <td>2</td>\n",
       "      <td>2</td>\n",
       "      <td>1</td>\n",
       "      <td>41</td>\n",
       "      <td>-2</td>\n",
       "      <td>-2</td>\n",
       "      <td>-2</td>\n",
       "      <td>-2</td>\n",
       "      <td>-2</td>\n",
       "      <td>...</td>\n",
       "      <td>0.031481</td>\n",
       "      <td>0.000000</td>\n",
       "      <td>NaN</td>\n",
       "      <td>NaN</td>\n",
       "      <td>NaN</td>\n",
       "      <td>NaN</td>\n",
       "      <td>742.0</td>\n",
       "      <td>24305.0</td>\n",
       "      <td>0.121525</td>\n",
       "      <td>0</td>\n",
       "    </tr>\n",
       "    <tr>\n",
       "      <th>8729</th>\n",
       "      <td>50000.0</td>\n",
       "      <td>1</td>\n",
       "      <td>2</td>\n",
       "      <td>1</td>\n",
       "      <td>43</td>\n",
       "      <td>0</td>\n",
       "      <td>0</td>\n",
       "      <td>0</td>\n",
       "      <td>0</td>\n",
       "      <td>0</td>\n",
       "      <td>...</td>\n",
       "      <td>0.138787</td>\n",
       "      <td>0.143142</td>\n",
       "      <td>0.036599</td>\n",
       "      <td>0.036965</td>\n",
       "      <td>0.037804</td>\n",
       "      <td>0.034314</td>\n",
       "      <td>3648.0</td>\n",
       "      <td>53551.0</td>\n",
       "      <td>1.071020</td>\n",
       "      <td>0</td>\n",
       "    </tr>\n",
       "  </tbody>\n",
       "</table>\n",
       "<p>5 rows × 33 columns</p>\n",
       "</div>"
      ],
      "text/plain": [
       "       LIMIT_BAL  SEX  EDUCATION  MARRIAGE  AGE  PAY_0  PAY_2  PAY_3  PAY_4  \\\n",
       "25665    40000.0    2          2         2   26     -1      0      0      0   \n",
       "16464    80000.0    2          3         1   59      0      0      0      0   \n",
       "22386   170000.0    2          1         2   30      2      2      2      2   \n",
       "10149   200000.0    2          2         1   41     -2     -2     -2     -2   \n",
       "8729     50000.0    1          2         1   43      0      0      0      0   \n",
       "\n",
       "       PAY_5  ...  PAY_RATIO_1  PAY_RATIO_2  PAY_RATIO_3  PAY_RATIO_4  \\\n",
       "25665     -1  ...     0.044842     0.040999     0.000000          NaN   \n",
       "16464      0  ...     0.042452     0.030054     0.037616     0.031509   \n",
       "22386      2  ...     0.043615     0.040927     0.000000     0.082499   \n",
       "10149     -2  ...     0.031481     0.000000          NaN          NaN   \n",
       "8729       0  ...     0.138787     0.143142     0.036599     0.036965   \n",
       "\n",
       "       PAY_RATIO_5  PAY_RATIO_6  TOTAL_PAY  TOTAL_BILL  CREDIT_UTILIZATION  \\\n",
       "25665     0.015446     0.534845    35353.0    129703.0            3.242575   \n",
       "16464     0.037779     0.040550    12830.0    349621.0            4.370262   \n",
       "22386     0.032720     0.005851    32800.0    972809.0            5.722406   \n",
       "10149          NaN          NaN      742.0     24305.0            0.121525   \n",
       "8729      0.037804     0.034314     3648.0     53551.0            1.071020   \n",
       "\n",
       "       LATE_PAYMENTS  \n",
       "25665              0  \n",
       "16464              0  \n",
       "22386              5  \n",
       "10149              0  \n",
       "8729               0  \n",
       "\n",
       "[5 rows x 33 columns]"
      ]
     },
     "execution_count": 33,
     "metadata": {},
     "output_type": "execute_result"
    }
   ],
   "source": [
    "def feature_engineering(data):\n",
    "    # Payment Ratio Features\n",
    "    data['PAY_RATIO_1'] = data['PAY_AMT1'] / data['BILL_AMT1'].replace(0, np.nan)\n",
    "    data['PAY_RATIO_2'] = data['PAY_AMT2'] / data['BILL_AMT2'].replace(0, np.nan)\n",
    "    data['PAY_RATIO_3'] = data['PAY_AMT3'] / data['BILL_AMT3'].replace(0, np.nan)\n",
    "    data['PAY_RATIO_4'] = data['PAY_AMT4'] / data['BILL_AMT4'].replace(0, np.nan)\n",
    "    data['PAY_RATIO_5'] = data['PAY_AMT5'] / data['BILL_AMT5'].replace(0, np.nan)\n",
    "    data['PAY_RATIO_6'] = data['PAY_AMT6'] / data['BILL_AMT6'].replace(0, np.nan)\n",
    "\n",
    "    # Total Payment Amounts\n",
    "    data['TOTAL_PAY'] = data[['PAY_AMT1', 'PAY_AMT2', 'PAY_AMT3', 'PAY_AMT4', 'PAY_AMT5', 'PAY_AMT6']].sum(axis=1)\n",
    "\n",
    "    # Credit Utilization Ratio\n",
    "    data['TOTAL_BILL'] = data[['BILL_AMT1', 'BILL_AMT2', 'BILL_AMT3', 'BILL_AMT4', 'BILL_AMT5', 'BILL_AMT6']].sum(axis=1)\n",
    "    data['CREDIT_UTILIZATION'] = data['TOTAL_BILL'] / data['LIMIT_BAL'].replace(0, np.nan)\n",
    "\n",
    "    # Months with Late Payments\n",
    "    data['LATE_PAYMENTS'] = (data[['PAY_0', 'PAY_2', 'PAY_3', 'PAY_4', 'PAY_5']] > 0).sum(axis=1)\n",
    "\n",
    "    return data\n",
    "\n",
    "X_train = feature_engineering(X_train)\n",
    "X_test = feature_engineering(X_test)\n",
    "X_test = X_test[X_train.columns]\n",
    "\n",
    "X_train.head()\n",
    "X_test.head()"
   ]
  },
  {
   "cell_type": "markdown",
   "metadata": {
    "deletable": false,
    "editable": false
   },
   "source": [
    "<!-- END QUESTION -->\n",
    "\n",
    "<br><br>"
   ]
  },
  {
   "cell_type": "markdown",
   "metadata": {
    "deletable": false,
    "editable": false
   },
   "source": [
    "<!-- BEGIN QUESTION -->\n",
    "\n",
    "## 5. Preprocessing and transformations <a name=\"5\"></a>\n",
    "<hr>\n",
    "rubric={points:10}\n",
    "\n",
    "**Your tasks:**\n",
    "\n",
    "1. Identify different feature types and the transformations you would apply on each feature type. \n",
    "2. Define a column transformer, if necessary. "
   ]
  },
  {
   "cell_type": "markdown",
   "metadata": {
    "deletable": false,
    "editable": false
   },
   "source": [
    "<div class=\"alert alert-warning\">\n",
    "    \n",
    "Solution_5\n",
    "    \n",
    "</div>\n",
    "\n",
    "_Points:_ 10"
   ]
  },
  {
   "cell_type": "code",
   "execution_count": 34,
   "metadata": {
    "tags": []
   },
   "outputs": [],
   "source": [
    "numerical_features = ['LIMIT_BAL', 'AGE', 'BILL_AMT1', 'BILL_AMT2', 'BILL_AMT3', 'BILL_AMT4', 'BILL_AMT5', 'BILL_AMT6', 'PAY_AMT1', 'PAY_AMT2', 'PAY_AMT3', 'PAY_AMT4', 'PAY_AMT5', 'PAY_AMT6', 'TOTAL_BILL', 'TOTAL_PAY', 'CREDIT_UTILIZATION', 'PAY_RATIO_1', 'PAY_RATIO_2', 'PAY_RATIO_3', 'PAY_RATIO_4', 'PAY_RATIO_5', 'PAY_RATIO_6']\n",
    "\n",
    "categorical_features = ['SEX', 'EDUCATION', 'MARRIAGE']\n",
    "\n",
    "ordinal_features = ['PAY_0', 'PAY_2', 'PAY_3', 'PAY_4', 'PAY_5']"
   ]
  },
  {
   "cell_type": "code",
   "execution_count": 35,
   "metadata": {
    "tags": []
   },
   "outputs": [],
   "source": [
    "preprocessor = ColumnTransformer(\n",
    "    transformers=[\n",
    "        ('num', StandardScaler(), numerical_features),\n",
    "        ('cat', OneHotEncoder(), categorical_features),\n",
    "        ('ord', OrdinalEncoder(handle_unknown=\"use_encoded_value\", unknown_value=-1), ordinal_features)\n",
    "    ]\n",
    ")"
   ]
  },
  {
   "cell_type": "code",
   "execution_count": 36,
   "metadata": {
    "tags": []
   },
   "outputs": [],
   "source": [
    "preprocessor.fit(X_train)\n",
    "\n",
    "X_train_transformed = preprocessor.transform(X_train)\n",
    "X_test_transformed = preprocessor.transform(X_test)"
   ]
  },
  {
   "cell_type": "markdown",
   "metadata": {
    "deletable": false,
    "editable": false
   },
   "source": [
    "<!-- END QUESTION -->\n",
    "\n",
    "<br><br>"
   ]
  },
  {
   "cell_type": "markdown",
   "metadata": {
    "deletable": false,
    "editable": false
   },
   "source": [
    "<!-- BEGIN QUESTION -->\n",
    "\n",
    "## 6. Baseline model <a name=\"6\"></a>\n",
    "<hr>\n",
    "rubric={points:2}\n",
    "\n",
    "**Your tasks:**\n",
    "1. Try `scikit-learn`'s baseline model and report results."
   ]
  },
  {
   "cell_type": "markdown",
   "metadata": {
    "deletable": false,
    "editable": false
   },
   "source": [
    "<div class=\"alert alert-warning\">\n",
    "    \n",
    "Solution_6\n",
    "    \n",
    "</div>\n",
    "\n",
    "_Points:_ 2"
   ]
  },
  {
   "cell_type": "code",
   "execution_count": 37,
   "metadata": {
    "tags": []
   },
   "outputs": [],
   "source": [
    "baseline_model = DummyClassifier(strategy=\"most_frequent\")"
   ]
  },
  {
   "cell_type": "code",
   "execution_count": 38,
   "metadata": {
    "tags": []
   },
   "outputs": [],
   "source": [
    "baseline_model.fit(X_train, y_train)\n",
    "\n",
    "y_pred_baseline = baseline_model.predict(X_test)"
   ]
  },
  {
   "cell_type": "code",
   "execution_count": 39,
   "metadata": {
    "tags": []
   },
   "outputs": [
    {
     "name": "stdout",
     "output_type": "stream",
     "text": [
      "Baseline Model Accuracy: 0.7807142857142857\n",
      "\n",
      "Confusion Matrix:\n",
      " [[16395     0]\n",
      " [ 4605     0]]\n",
      "\n",
      "Classification Report:\n",
      "               precision    recall  f1-score   support\n",
      "\n",
      "           0       0.78      1.00      0.88     16395\n",
      "           1       0.00      0.00      0.00      4605\n",
      "\n",
      "    accuracy                           0.78     21000\n",
      "   macro avg       0.39      0.50      0.44     21000\n",
      "weighted avg       0.61      0.78      0.68     21000\n",
      "\n"
     ]
    }
   ],
   "source": [
    "accuracy = accuracy_score(y_test, y_pred_baseline)\n",
    "conf_matrix = confusion_matrix(y_test, y_pred_baseline)\n",
    "class_report = classification_report(y_test, y_pred_baseline, zero_division=0)\n",
    "\n",
    "print(\"Baseline Model Accuracy:\", accuracy)\n",
    "print(\"\\nConfusion Matrix:\\n\", conf_matrix)\n",
    "print(\"\\nClassification Report:\\n\", class_report)"
   ]
  },
  {
   "cell_type": "markdown",
   "metadata": {
    "deletable": false,
    "editable": false
   },
   "source": [
    "<!-- END QUESTION -->\n",
    "\n",
    "<br><br>"
   ]
  },
  {
   "cell_type": "markdown",
   "metadata": {
    "deletable": false,
    "editable": false
   },
   "source": [
    "<!-- BEGIN QUESTION -->\n",
    "\n",
    "## 7. Linear models <a name=\"7\"></a>\n",
    "<hr>\n",
    "rubric={points:10}\n",
    "\n",
    "**Your tasks:**\n",
    "\n",
    "1. Try a linear model as a first real attempt. \n",
    "2. Carry out hyperparameter tuning to explore different values for the complexity hyperparameter. \n",
    "3. Report cross-validation scores along with standard deviation. \n",
    "4. Summarize your results."
   ]
  },
  {
   "cell_type": "markdown",
   "metadata": {
    "deletable": false,
    "editable": false
   },
   "source": [
    "<div class=\"alert alert-warning\">\n",
    "    \n",
    "Solution_7\n",
    "    \n",
    "</div>\n",
    "\n",
    "_Points:_ 10"
   ]
  },
  {
   "cell_type": "markdown",
   "metadata": {},
   "source": [
    "_Type your answer here, replacing this text._"
   ]
  },
  {
   "cell_type": "code",
   "execution_count": 40,
   "metadata": {
    "tags": []
   },
   "outputs": [
    {
     "name": "stdout",
     "output_type": "stream",
     "text": [
      "Training set accuracy: 0.7741111111111111\n",
      "Cross-validation accuracy scores: [0.77388889 0.77388889 0.77444444 0.77444444 0.77444444]\n",
      "Mean cross-validation accuracy: 0.7742222222222223\n",
      "Standard deviation of cross-validation accuracy: 0.0002721655269759512\n"
     ]
    }
   ],
   "source": [
    "baseline_pipeline = Pipeline([\n",
    "    ('imputer', SimpleImputer(strategy=\"mean\")),\n",
    "    ('model', LogisticRegression(max_iter=2000, solver='saga'))\n",
    "])\n",
    "\n",
    "cv_scores = cross_val_score(baseline_pipeline, X_train, y_train, cv=5, scoring='accuracy')\n",
    "\n",
    "baseline_pipeline.fit(X_train, y_train)\n",
    "train_predictions = baseline_pipeline.predict(X_train)\n",
    "train_accuracy = accuracy_score(y_train, train_predictions)\n",
    "\n",
    "print(\"Training set accuracy:\", train_accuracy)\n",
    "print(\"Cross-validation accuracy scores:\", cv_scores)\n",
    "print(\"Mean cross-validation accuracy:\", cv_scores.mean())\n",
    "print(\"Standard deviation of cross-validation accuracy:\", cv_scores.std())"
   ]
  },
  {
   "cell_type": "code",
   "execution_count": 41,
   "metadata": {
    "tags": []
   },
   "outputs": [
    {
     "name": "stdout",
     "output_type": "stream",
     "text": [
      "Best hyperparameters found: {'model__C': 1}\n",
      "Best cross-validation score: 0.8075555555555555\n"
     ]
    }
   ],
   "source": [
    "pipeline = Pipeline([\n",
    "    ('imputer', SimpleImputer(strategy=\"mean\")),\n",
    "    ('scaler', StandardScaler()),\n",
    "    ('model', LogisticRegression(max_iter=1000))\n",
    "])\n",
    "\n",
    "param_grid = {\n",
    "    'model__C': [0.01, 0.1, 1, 10, 100]\n",
    "}\n",
    "\n",
    "grid_search = GridSearchCV(pipeline, param_grid, cv=5, scoring='accuracy', n_jobs=-1)\n",
    "grid_search.fit(X_train, y_train)\n",
    "\n",
    "best_model = grid_search.best_estimator_\n",
    "\n",
    "print(\"Best hyperparameters found:\", grid_search.best_params_)\n",
    "print(\"Best cross-validation score:\", grid_search.best_score_)"
   ]
  },
  {
   "cell_type": "code",
   "execution_count": 42,
   "metadata": {
    "tags": []
   },
   "outputs": [
    {
     "name": "stdout",
     "output_type": "stream",
     "text": [
      "Training set accuracy: 0.808\n",
      "Cross-validation accuracy scores with the best model: [0.81777778 0.81       0.79888889 0.80333333 0.80777778]\n",
      "Mean cross-validation accuracy: 0.8075555555555555\n",
      "Standard deviation of cross-validation accuracy: 0.006378977819736611\n"
     ]
    }
   ],
   "source": [
    "pipeline.fit(X_train, y_train)\n",
    "train_predictions = pipeline.predict(X_train)\n",
    "train_accuracy = accuracy_score(y_train, train_predictions)\n",
    "cv_scores = cross_val_score(best_model, X_train, y_train, cv=5, scoring='accuracy', n_jobs=-1)\n",
    "print(\"Training set accuracy:\", train_accuracy)\n",
    "print(\"Cross-validation accuracy scores with the best model:\", cv_scores)\n",
    "print(\"Mean cross-validation accuracy:\", cv_scores.mean())\n",
    "print(\"Standard deviation of cross-validation accuracy:\", cv_scores.std())"
   ]
  },
  {
   "cell_type": "markdown",
   "metadata": {
    "tags": []
   },
   "source": [
    "After conducting cross-validation and hyperparameter tuning, the baseline logistic regression model initially showed signs of underfitting, with a mean accuracy of around 0.774. Hyperparameter tuning using GridSearchCV enhanced the model, achieving a mean cross-validation accuracy of approximately 0.809 with a low standard deviation, indicating a consistent and stable model. The best regularization parameter, C=1, highlighted the importance of balancing model complexity to avoid overfitting."
   ]
  },
  {
   "cell_type": "markdown",
   "metadata": {
    "deletable": false,
    "editable": false
   },
   "source": [
    "<!-- END QUESTION -->\n",
    "\n",
    "<br><br>"
   ]
  },
  {
   "cell_type": "markdown",
   "metadata": {
    "deletable": false,
    "editable": false
   },
   "source": [
    "<!-- BEGIN QUESTION -->\n",
    "\n",
    "## 8. Different models <a name=\"8\"></a>\n",
    "<hr>\n",
    "rubric={points:12}\n",
    "\n",
    "**Your tasks:**\n",
    "1. Try at least 3 other models aside from a linear model. One of these models should be a tree-based ensemble model. \n",
    "2. Summarize your results in terms of overfitting/underfitting and fit and score times. Can you beat a linear model? "
   ]
  },
  {
   "cell_type": "markdown",
   "metadata": {
    "deletable": false,
    "editable": false
   },
   "source": [
    "<div class=\"alert alert-warning\">\n",
    "    \n",
    "Solution_8\n",
    "    \n",
    "</div>\n",
    "\n",
    "_Points:_ 12"
   ]
  },
  {
   "cell_type": "markdown",
   "metadata": {},
   "source": [
    "_Type your answer here, replacing this text._"
   ]
  },
  {
   "cell_type": "code",
   "execution_count": 43,
   "metadata": {
    "tags": []
   },
   "outputs": [
    {
     "name": "stdout",
     "output_type": "stream",
     "text": [
      "\n",
      "Support Vector Classifier Results:\n",
      "Training set accuracy: 0.7743333333333333\n",
      "Cross-validation accuracy scores: [0.77388889 0.77444444 0.77444444 0.77444444 0.77444444]\n",
      "Mean CV accuracy: 0.7743333333333334\n",
      "Standard deviation of CV accuracy: 0.00022222222222225695\n",
      "Fit time: 1.6559512615203857 seconds\n"
     ]
    }
   ],
   "source": [
    "svc_pipeline = Pipeline([\n",
    "    ('imputer', SimpleImputer(strategy=\"mean\")),\n",
    "    ('model', SVC())\n",
    "])\n",
    "\n",
    "start_time = time()\n",
    "svc_cv_scores = cross_val_score(svc_pipeline, X_train, y_train, cv=5, scoring='accuracy', n_jobs=-1)\n",
    "svc_fit_time = time() - start_time\n",
    "\n",
    "svc_pipeline.fit(X_train, y_train)\n",
    "train_predictions = svc_pipeline.predict(X_train)\n",
    "train_accuracy = accuracy_score(y_train, train_predictions)\n",
    "\n",
    "print(\"\\nSupport Vector Classifier Results:\")\n",
    "print(\"Training set accuracy:\", train_accuracy)\n",
    "print(\"Cross-validation accuracy scores:\", svc_cv_scores)\n",
    "print(\"Mean CV accuracy:\", np.mean(svc_cv_scores))\n",
    "print(\"Standard deviation of CV accuracy:\", np.std(svc_cv_scores))\n",
    "print(\"Fit time:\", svc_fit_time, \"seconds\")"
   ]
  },
  {
   "cell_type": "code",
   "execution_count": 44,
   "metadata": {
    "tags": []
   },
   "outputs": [
    {
     "name": "stdout",
     "output_type": "stream",
     "text": [
      "\n",
      "Random Forest Classifier Results:\n",
      "Training set accuracy: 0.9993333333333333\n",
      "Cross-validation accuracy scores: [0.81666667 0.81333333 0.80666667 0.81166667 0.81444444]\n",
      "Mean CV accuracy: 0.8125555555555556\n",
      "Standard deviation of CV accuracy: 0.0033628324334270157\n",
      "Fit time: 0.7914602756500244 seconds\n"
     ]
    }
   ],
   "source": [
    "rf_pipeline = Pipeline([\n",
    "    ('imputer', SimpleImputer(strategy=\"mean\")),\n",
    "    ('model', RandomForestClassifier(random_state=42, n_jobs=-1))\n",
    "])\n",
    "\n",
    "start_time = time()\n",
    "rf_cv_scores = cross_val_score(rf_pipeline, X_train, y_train, cv=5, scoring='accuracy', n_jobs=-1)\n",
    "rf_fit_time = time() - start_time\n",
    "\n",
    "rf_pipeline.fit(X_train, y_train)\n",
    "train_predictions = rf_pipeline.predict(X_train)\n",
    "train_accuracy = accuracy_score(y_train, train_predictions)\n",
    "\n",
    "print(\"\\nRandom Forest Classifier Results:\")\n",
    "print(\"Training set accuracy:\", train_accuracy)\n",
    "print(\"Cross-validation accuracy scores:\", rf_cv_scores)\n",
    "print(\"Mean CV accuracy:\", np.mean(rf_cv_scores))\n",
    "print(\"Standard deviation of CV accuracy:\", np.std(rf_cv_scores))\n",
    "print(\"Fit time:\", rf_fit_time, \"seconds\")"
   ]
  },
  {
   "cell_type": "code",
   "execution_count": 45,
   "metadata": {
    "tags": []
   },
   "outputs": [
    {
     "name": "stdout",
     "output_type": "stream",
     "text": [
      "\n",
      "Gradient Boosting Classifier Results:\n",
      "Training set accuracy: 0.835\n",
      "Cross-validation accuracy scores: [0.82888889 0.82777778 0.81       0.81666667 0.82166667]\n",
      "Mean CV accuracy: 0.821\n",
      "Standard deviation of CV accuracy: 0.007048334012068291\n",
      "Fit time: 3.9973533153533936 seconds\n"
     ]
    }
   ],
   "source": [
    "gb_pipeline = Pipeline([\n",
    "    ('imputer', SimpleImputer(strategy=\"mean\")),\n",
    "    ('model', GradientBoostingClassifier(random_state=42))\n",
    "])\n",
    "\n",
    "start_time = time()\n",
    "gb_cv_scores = cross_val_score(gb_pipeline, X_train, y_train, cv=5, scoring='accuracy', n_jobs=-1)\n",
    "gb_fit_time = time() - start_time\n",
    "\n",
    "gb_pipeline.fit(X_train, y_train)\n",
    "train_predictions = gb_pipeline.predict(X_train)\n",
    "train_accuracy = accuracy_score(y_train, train_predictions)\n",
    "\n",
    "print(\"\\nGradient Boosting Classifier Results:\")\n",
    "print(\"Training set accuracy:\", train_accuracy)\n",
    "print(\"Cross-validation accuracy scores:\", gb_cv_scores)\n",
    "print(\"Mean CV accuracy:\", np.mean(gb_cv_scores))\n",
    "print(\"Standard deviation of CV accuracy:\", np.std(gb_cv_scores))\n",
    "print(\"Fit time:\", gb_fit_time, \"seconds\")"
   ]
  },
  {
   "cell_type": "markdown",
   "metadata": {},
   "source": [
    "The Gradient Boosting Classifier offers the best balance between fitting the training data and generalizing to unseen data, with training and cross-validation accuracies being closely aligned. The Random Forest Classifier shows signs of overfitting, as evidenced by its significantly higher training accuracy compared to cross-validation accuracy. On the other hand, the linear model (Logistic Regression) appears to underfit slightly, as it achieves lower cross-validation scores and struggles to capture complex relationships compared to the non-linear models. Overall, Gradient Boosting is the most reliable for generalization, while Random Forest may require further tuning to mitigate overfitting."
   ]
  },
  {
   "cell_type": "markdown",
   "metadata": {
    "deletable": false,
    "editable": false
   },
   "source": [
    "<!-- END QUESTION -->\n",
    "\n",
    "<br><br>"
   ]
  },
  {
   "cell_type": "markdown",
   "metadata": {
    "deletable": false,
    "editable": false
   },
   "source": [
    "<!-- BEGIN QUESTION -->\n",
    "\n",
    "## 9. Feature selection <a name=\"9\"></a>\n",
    "<hr>\n",
    "rubric={points:2}\n",
    "\n",
    "**Your tasks:**\n",
    "\n",
    "Make some attempts to select relevant features. You may try `RFECV` or forward selection for this. Do the results improve with feature selection? Summarize your results. If you see improvements in the results, keep feature selection in your pipeline. If not, you may abandon it in the next exercises. "
   ]
  },
  {
   "cell_type": "markdown",
   "metadata": {
    "deletable": false,
    "editable": false
   },
   "source": [
    "<div class=\"alert alert-warning\">\n",
    "    \n",
    "Solution_9\n",
    "    \n",
    "</div>\n",
    "\n",
    "_Points:_ 2"
   ]
  },
  {
   "cell_type": "markdown",
   "metadata": {},
   "source": [
    "_Type your answer here, replacing this text._"
   ]
  },
  {
   "cell_type": "code",
   "execution_count": 46,
   "metadata": {
    "tags": []
   },
   "outputs": [
    {
     "name": "stdout",
     "output_type": "stream",
     "text": [
      "Selected features indices: [ True False False False  True  True False False False False False  True\n",
      "  True  True  True  True  True  True False False False False False  True\n",
      "  True  True  True  True  True  True  True  True  True]\n",
      "\n",
      "SVC Results:\n",
      "Cross-validation accuracy scores: [0.82111111 0.81833333 0.81111111 0.81611111 0.81777778]\n",
      "Mean CV accuracy: 0.816888888888889\n",
      "Standard deviation of CV accuracy: 0.0033073057924749433\n",
      "\n",
      "Random Forest Results:\n",
      "Cross-validation accuracy scores: [0.81944444 0.81333333 0.80611111 0.81222222 0.80666667]\n",
      "Mean CV accuracy: 0.8115555555555556\n",
      "Standard deviation of CV accuracy: 0.004886362983843558\n",
      "\n",
      "Gradient Boosting Results:\n",
      "Cross-validation accuracy scores: [0.82333333 0.825      0.80944444 0.81444444 0.825     ]\n",
      "Mean CV accuracy: 0.8194444444444444\n",
      "Standard deviation of CV accuracy: 0.006353768202442579\n"
     ]
    }
   ],
   "source": [
    "X_train_orig = X_train.copy()\n",
    "y_train_orig = y_train.copy()\n",
    "\n",
    "selector = RFECV(estimator=RandomForestClassifier(), step=1, scoring='accuracy', cv=5, n_jobs=-1)\n",
    "selector.fit(X_train_orig, y_train_orig)\n",
    "\n",
    "X_train_selected = X_train_orig.iloc[:, selector.support_]\n",
    "\n",
    "print(\"Selected features indices:\", selector.support_)\n",
    "\n",
    "svc_pipeline = Pipeline([\n",
    "    ('imputer', SimpleImputer(strategy=\"mean\")),\n",
    "    ('scaler', StandardScaler()),\n",
    "    ('model', SVC())\n",
    "])\n",
    "\n",
    "rf_pipeline = Pipeline([\n",
    "    ('imputer', SimpleImputer(strategy=\"mean\")),\n",
    "    ('scaler', StandardScaler()),\n",
    "    ('model', RandomForestClassifier(random_state=42))\n",
    "])\n",
    "\n",
    "gb_pipeline = Pipeline([\n",
    "    ('imputer', SimpleImputer(strategy=\"mean\")),\n",
    "    ('scaler', StandardScaler()),\n",
    "    ('model', GradientBoostingClassifier(random_state=42))\n",
    "])\n",
    "\n",
    "for name, pipeline in [(\"SVC\", svc_pipeline), (\"Random Forest\", rf_pipeline), (\"Gradient Boosting\", gb_pipeline)]:\n",
    "    print(f\"\\n{name} Results:\")\n",
    "    cv_scores = cross_val_score(pipeline, X_train_selected, y_train_orig, cv=5, scoring='accuracy', n_jobs=-1)\n",
    "    print(\"Cross-validation accuracy scores:\", cv_scores)\n",
    "    print(\"Mean CV accuracy:\", np.mean(cv_scores))\n",
    "    print(\"Standard deviation of CV accuracy:\", np.std(cv_scores))"
   ]
  },
  {
   "cell_type": "markdown",
   "metadata": {
    "tags": []
   },
   "source": [
    "Based on the results, it can be concluded that the model's performance does not significantly improve with RFECV feature selection."
   ]
  },
  {
   "cell_type": "markdown",
   "metadata": {
    "deletable": false,
    "editable": false
   },
   "source": [
    "<!-- END QUESTION -->\n",
    "\n",
    "<br><br>"
   ]
  },
  {
   "cell_type": "markdown",
   "metadata": {
    "deletable": false,
    "editable": false
   },
   "source": [
    "<!-- BEGIN QUESTION -->\n",
    "\n",
    "## 10. Hyperparameter optimization <a name=\"10\"></a>\n",
    "<hr>\n",
    "rubric={points:10}\n",
    "\n",
    "**Your tasks:**\n",
    "\n",
    "Make some attempts to optimize hyperparameters for the models you've tried and summarize your results. In at least one case you should be optimizing multiple hyperparameters for a single model. You may use `sklearn`'s methods for hyperparameter optimization or fancier Bayesian optimization methods. \n",
    "  - [GridSearchCV](http://scikit-learn.org/stable/modules/generated/sklearn.model_selection.GridSearchCV.html)   \n",
    "  - [RandomizedSearchCV](http://scikit-learn.org/stable/modules/generated/sklearn.model_selection.RandomizedSearchCV.html)\n",
    "  - [scikit-optimize](https://github.com/scikit-optimize/scikit-optimize) "
   ]
  },
  {
   "cell_type": "markdown",
   "metadata": {
    "deletable": false,
    "editable": false
   },
   "source": [
    "<div class=\"alert alert-warning\">\n",
    "    \n",
    "Solution_10\n",
    "    \n",
    "</div>\n",
    "\n",
    "_Points:_ 10"
   ]
  },
  {
   "cell_type": "markdown",
   "metadata": {},
   "source": [
    "_Type your answer here, replacing this text._"
   ]
  },
  {
   "cell_type": "code",
   "execution_count": null,
   "metadata": {
    "tags": []
   },
   "outputs": [],
   "source": [
    "X_train = pd.DataFrame(X_train).replace([np.inf, -np.inf], np.nan).fillna(X_train.mean())\n",
    "y_train = pd.Series(y_train).replace([np.inf, -np.inf], np.nan).fillna(y_train.mean())\n",
    "\n",
    "best_params = {}\n",
    "best_scores = {}\n",
    "\n",
    "svc_param_grid = {\n",
    "    'C': [0.1, 1, 10],\n",
    "    'kernel': ['linear', 'rbf'],\n",
    "    'gamma': ['scale', 'auto']\n",
    "}\n",
    "svc_random = RandomizedSearchCV(SVC(), svc_param_grid, n_iter=3, cv=2, scoring='accuracy', n_jobs=-1, random_state=42, verbose=1)\n",
    "svc_random.fit(X_train, y_train)\n",
    "\n",
    "best_params['SVC'] = svc_random.best_params_\n",
    "best_scores['SVC'] = svc_random.best_score_\n",
    "\n",
    "rf_param_dist = {\n",
    "    'n_estimators': randint(100, 150),\n",
    "    'max_depth': randint(5, 10),\n",
    "    'min_samples_split': randint(2, 4),\n",
    "    'min_samples_leaf': randint(1, 2),\n",
    "    'max_features': ['sqrt', 'log2']\n",
    "}\n",
    "rf_random = RandomizedSearchCV(RandomForestClassifier(random_state=42), rf_param_dist, n_iter=3, cv=2, scoring='accuracy', n_jobs=-1, random_state=42, verbose=1)\n",
    "rf_random.fit(X_train, y_train)\n",
    "\n",
    "best_params['RandomForest'] = rf_random.best_params_\n",
    "best_scores['RandomForest'] = rf_random.best_score_\n",
    "\n",
    "gb_param_grid = {\n",
    "    'n_estimators': [100, 120],\n",
    "    'learning_rate': [0.01, 0.1],\n",
    "    'max_depth': [3, 5]\n",
    "}\n",
    "gb_random = RandomizedSearchCV(GradientBoostingClassifier(random_state=42), gb_param_grid, n_iter=3, cv=2, scoring='accuracy', n_jobs=-1, random_state=42, verbose=1)\n",
    "gb_random.fit(X_train, y_train)\n",
    "\n",
    "best_params['GradientBoosting'] = gb_random.best_params_\n",
    "best_scores['GradientBoosting'] = gb_random.best_score_\n",
    "\n",
    "print(\"Best Parameters and Scores:\")\n",
    "for model, params in best_params.items():\n",
    "    print(f\"{model} - Best Parameters: {params}\")\n",
    "    print(f\"{model} - Best Cross-Validation Score: {best_scores[model]}\")"
   ]
  },
  {
   "cell_type": "markdown",
   "metadata": {},
   "source": [
    "I don't know if it is working, it takes too long to run even when I reduced the iteration times and cv times."
   ]
  },
  {
   "cell_type": "markdown",
   "metadata": {
    "deletable": false,
    "editable": false
   },
   "source": [
    "<!-- END QUESTION -->\n",
    "\n",
    "<br><br>"
   ]
  },
  {
   "cell_type": "markdown",
   "metadata": {
    "deletable": false,
    "editable": false
   },
   "source": [
    "<!-- BEGIN QUESTION -->\n",
    "\n",
    "## 11. Interpretation and feature importances <a name=\"1\"></a>\n",
    "<hr>\n",
    "rubric={points:10}\n",
    "\n",
    "**Your tasks:**\n",
    "\n",
    "1. Use the methods we saw in class (e.g., `shap`) (or any other methods of your choice) to examine the most important features of one of the non-linear models. \n",
    "2. Summarize your observations. "
   ]
  },
  {
   "cell_type": "markdown",
   "metadata": {
    "deletable": false,
    "editable": false
   },
   "source": [
    "<div class=\"alert alert-warning\">\n",
    "    \n",
    "Solution_11\n",
    "    \n",
    "</div>\n",
    "\n",
    "_Points:_ 10"
   ]
  },
  {
   "cell_type": "markdown",
   "metadata": {},
   "source": [
    "_Type your answer here, replacing this text._"
   ]
  },
  {
   "cell_type": "code",
   "execution_count": null,
   "metadata": {
    "tags": []
   },
   "outputs": [],
   "source": [
    "imputer = SimpleImputer(strategy=\"mean\")\n",
    "X_train_imputed = imputer.fit_transform(X_train)\n",
    "y_train_imputed = np.where(np.isnan(y_train), np.nanmean(y_train), y_train)\n",
    "\n",
    "svc_model = SVC(kernel='linear', random_state=42)\n",
    "svc_model.fit(X_train_imputed, y_train_imputed)\n",
    "\n",
    "sample_size = 500\n",
    "X_sample = shap.sample(X_train_imputed, sample_size)\n",
    "\n",
    "explainer = shap.KernelExplainer(svc_model.predict, X_sample, n_jobs=-1)\n",
    "shap_values = explainer.shap_values(X_sample)\n",
    "\n",
    "shap.summary_plot(shap_values, X_sample, feature_names=X_train.columns)"
   ]
  },
  {
   "cell_type": "markdown",
   "metadata": {
    "tags": []
   },
   "source": [
    "I don't know if it is working, it takes too long to run"
   ]
  },
  {
   "cell_type": "code",
   "execution_count": null,
   "metadata": {
    "tags": []
   },
   "outputs": [],
   "source": []
  },
  {
   "cell_type": "code",
   "execution_count": null,
   "metadata": {
    "tags": []
   },
   "outputs": [],
   "source": [
    "..."
   ]
  },
  {
   "cell_type": "code",
   "execution_count": null,
   "metadata": {
    "tags": []
   },
   "outputs": [],
   "source": [
    "..."
   ]
  },
  {
   "cell_type": "code",
   "execution_count": null,
   "metadata": {
    "tags": []
   },
   "outputs": [],
   "source": [
    "..."
   ]
  },
  {
   "cell_type": "code",
   "execution_count": null,
   "metadata": {
    "tags": []
   },
   "outputs": [],
   "source": [
    "..."
   ]
  },
  {
   "cell_type": "code",
   "execution_count": null,
   "metadata": {
    "tags": []
   },
   "outputs": [],
   "source": [
    "..."
   ]
  },
  {
   "cell_type": "code",
   "execution_count": null,
   "metadata": {
    "tags": []
   },
   "outputs": [],
   "source": [
    "..."
   ]
  },
  {
   "cell_type": "code",
   "execution_count": null,
   "metadata": {
    "tags": []
   },
   "outputs": [],
   "source": [
    "..."
   ]
  },
  {
   "cell_type": "markdown",
   "metadata": {
    "deletable": false,
    "editable": false
   },
   "source": [
    "<!-- END QUESTION -->\n",
    "\n",
    "<br><br>"
   ]
  },
  {
   "cell_type": "markdown",
   "metadata": {
    "deletable": false,
    "editable": false,
    "tags": []
   },
   "source": [
    "<!-- BEGIN QUESTION -->\n",
    "\n",
    "## 12. Results on the test set <a name=\"12\"></a>\n",
    "<hr>\n",
    "\n",
    "rubric={points:10}\n",
    "\n",
    "**Your tasks:**\n",
    "\n",
    "1. Try your best performing model on the test data and report test scores. \n",
    "2. Do the test scores agree with the validation scores from before? To what extent do you trust your results? Do you think you've had issues with optimization bias? \n",
    "3. Take one or two test predictions and explain these individual predictions (e.g., with SHAP force plots).  "
   ]
  },
  {
   "cell_type": "markdown",
   "metadata": {
    "deletable": false,
    "editable": false
   },
   "source": [
    "<div class=\"alert alert-warning\">\n",
    "    \n",
    "Solution_12\n",
    "    \n",
    "</div>\n",
    "\n",
    "_Points:_ 10"
   ]
  },
  {
   "cell_type": "markdown",
   "metadata": {},
   "source": [
    "_Type your answer here, replacing this text._"
   ]
  },
  {
   "cell_type": "code",
   "execution_count": 47,
   "metadata": {
    "tags": []
   },
   "outputs": [
    {
     "name": "stdout",
     "output_type": "stream",
     "text": [
      "Test set accuracy: 0.8199047619047619\n",
      "\n",
      "Classification Report on Test Set:\n",
      "              precision    recall  f1-score   support\n",
      "\n",
      "           0       0.84      0.95      0.89     16395\n",
      "           1       0.66      0.37      0.47      4605\n",
      "\n",
      "    accuracy                           0.82     21000\n",
      "   macro avg       0.75      0.66      0.68     21000\n",
      "weighted avg       0.80      0.82      0.80     21000\n",
      "\n"
     ]
    }
   ],
   "source": [
    "gb_pipeline.fit(X_train, y_train)\n",
    "\n",
    "y_pred_test = gb_pipeline.predict(X_test)\n",
    "\n",
    "test_accuracy = accuracy_score(y_test, y_pred_test)\n",
    "print(\"Test set accuracy:\", test_accuracy)\n",
    "\n",
    "print(\"\\nClassification Report on Test Set:\")\n",
    "print(classification_report(y_test, y_pred_test))"
   ]
  },
  {
   "cell_type": "code",
   "execution_count": null,
   "metadata": {
    "tags": []
   },
   "outputs": [],
   "source": [
    "explainer = shap.TreeExplainer(gb_model)\n",
    "shap_values = explainer.shap_values(X_test)\n",
    "\n",
    "shap.summary_plot(shap_values, X_test, feature_names=X_test.columns)\n",
    "\n",
    "shap.initjs()\n",
    "instance_index = 0\n",
    "shap.force_plot(explainer.expected_value, shap_values[instance_index], X_test.iloc[instance_index])"
   ]
  },
  {
   "cell_type": "code",
   "execution_count": null,
   "metadata": {
    "tags": []
   },
   "outputs": [],
   "source": [
    "..."
   ]
  },
  {
   "cell_type": "code",
   "execution_count": null,
   "metadata": {
    "tags": []
   },
   "outputs": [],
   "source": [
    "..."
   ]
  },
  {
   "cell_type": "code",
   "execution_count": null,
   "metadata": {
    "tags": []
   },
   "outputs": [],
   "source": [
    "..."
   ]
  },
  {
   "cell_type": "code",
   "execution_count": null,
   "metadata": {
    "tags": []
   },
   "outputs": [],
   "source": [
    "..."
   ]
  },
  {
   "cell_type": "code",
   "execution_count": null,
   "metadata": {
    "tags": []
   },
   "outputs": [],
   "source": [
    "..."
   ]
  },
  {
   "cell_type": "code",
   "execution_count": null,
   "metadata": {
    "tags": []
   },
   "outputs": [],
   "source": [
    "..."
   ]
  },
  {
   "cell_type": "code",
   "execution_count": null,
   "metadata": {
    "tags": []
   },
   "outputs": [],
   "source": [
    "..."
   ]
  },
  {
   "cell_type": "code",
   "execution_count": null,
   "metadata": {
    "tags": []
   },
   "outputs": [],
   "source": [
    "..."
   ]
  },
  {
   "cell_type": "code",
   "execution_count": null,
   "metadata": {
    "tags": []
   },
   "outputs": [],
   "source": [
    "..."
   ]
  },
  {
   "cell_type": "code",
   "execution_count": null,
   "metadata": {
    "tags": []
   },
   "outputs": [],
   "source": [
    "..."
   ]
  },
  {
   "cell_type": "markdown",
   "metadata": {
    "deletable": false,
    "editable": false
   },
   "source": [
    "<!-- END QUESTION -->\n",
    "\n",
    "<br><br>"
   ]
  },
  {
   "cell_type": "markdown",
   "metadata": {
    "deletable": false,
    "editable": false
   },
   "source": [
    "<!-- BEGIN QUESTION -->\n",
    "\n",
    "## 13. Summary of results <a name=\"13\"></a>\n",
    "<hr>\n",
    "rubric={points:12}\n",
    "\n",
    "Imagine that you want to present the summary of these results to your boss and co-workers. \n",
    "\n",
    "**Your tasks:**\n",
    "\n",
    "1. Create a table summarizing important results. \n",
    "2. Write concluding remarks.\n",
    "3. Discuss other ideas that you did not try but could potentially improve the performance/interpretability . \n",
    "3. Report your final test score along with the metric you used at the top of this notebook in the [Submission instructions section](#si)."
   ]
  },
  {
   "cell_type": "markdown",
   "metadata": {
    "deletable": false,
    "editable": false
   },
   "source": [
    "<div class=\"alert alert-warning\">\n",
    "    \n",
    "Solution_13\n",
    "    \n",
    "</div>\n",
    "\n",
    "_Points:_ 12"
   ]
  },
  {
   "cell_type": "markdown",
   "metadata": {},
   "source": [
    "_Type your answer here, replacing this text._"
   ]
  },
  {
   "cell_type": "code",
   "execution_count": 48,
   "metadata": {
    "tags": []
   },
   "outputs": [
    {
     "name": "stdout",
     "output_type": "stream",
     "text": [
      "Summary of Important Results\n"
     ]
    },
    {
     "data": {
      "text/html": [
       "<div>\n",
       "<style scoped>\n",
       "    .dataframe tbody tr th:only-of-type {\n",
       "        vertical-align: middle;\n",
       "    }\n",
       "\n",
       "    .dataframe tbody tr th {\n",
       "        vertical-align: top;\n",
       "    }\n",
       "\n",
       "    .dataframe thead th {\n",
       "        text-align: right;\n",
       "    }\n",
       "</style>\n",
       "<table border=\"1\" class=\"dataframe\">\n",
       "  <thead>\n",
       "    <tr style=\"text-align: right;\">\n",
       "      <th></th>\n",
       "      <th>Model</th>\n",
       "      <th>Training Accuracy</th>\n",
       "      <th>Mean CV Accuracy</th>\n",
       "      <th>Test Accuracy</th>\n",
       "      <th>CV Std. Dev.</th>\n",
       "      <th>Key Observations</th>\n",
       "    </tr>\n",
       "  </thead>\n",
       "  <tbody>\n",
       "    <tr>\n",
       "      <th>0</th>\n",
       "      <td>Logistic Regression</td>\n",
       "      <td>0.808</td>\n",
       "      <td>0.807</td>\n",
       "      <td>Not evaluated</td>\n",
       "      <td>0.0060</td>\n",
       "      <td>Decent training and CV accuracy; slight underf...</td>\n",
       "    </tr>\n",
       "    <tr>\n",
       "      <th>1</th>\n",
       "      <td>Support Vector Classifier (SVC)</td>\n",
       "      <td>0.774</td>\n",
       "      <td>0.774</td>\n",
       "      <td>Not evaluated</td>\n",
       "      <td>0.0002</td>\n",
       "      <td>Balanced performance, low standard deviation; ...</td>\n",
       "    </tr>\n",
       "    <tr>\n",
       "      <th>2</th>\n",
       "      <td>Random Forest</td>\n",
       "      <td>0.999</td>\n",
       "      <td>0.812</td>\n",
       "      <td>Not evaluated</td>\n",
       "      <td>0.0030</td>\n",
       "      <td>High training accuracy, potential overfitting ...</td>\n",
       "    </tr>\n",
       "    <tr>\n",
       "      <th>3</th>\n",
       "      <td>Gradient Boosting</td>\n",
       "      <td>0.835</td>\n",
       "      <td>0.821</td>\n",
       "      <td>0.8199</td>\n",
       "      <td>0.0070</td>\n",
       "      <td>Best performing model with the highest general...</td>\n",
       "    </tr>\n",
       "  </tbody>\n",
       "</table>\n",
       "</div>"
      ],
      "text/plain": [
       "                             Model  Training Accuracy  Mean CV Accuracy  \\\n",
       "0              Logistic Regression              0.808             0.807   \n",
       "1  Support Vector Classifier (SVC)              0.774             0.774   \n",
       "2                    Random Forest              0.999             0.812   \n",
       "3                Gradient Boosting              0.835             0.821   \n",
       "\n",
       "   Test Accuracy  CV Std. Dev.  \\\n",
       "0  Not evaluated        0.0060   \n",
       "1  Not evaluated        0.0002   \n",
       "2  Not evaluated        0.0030   \n",
       "3         0.8199        0.0070   \n",
       "\n",
       "                                    Key Observations  \n",
       "0  Decent training and CV accuracy; slight underf...  \n",
       "1  Balanced performance, low standard deviation; ...  \n",
       "2  High training accuracy, potential overfitting ...  \n",
       "3  Best performing model with the highest general...  "
      ]
     },
     "metadata": {},
     "output_type": "display_data"
    },
    {
     "name": "stdout",
     "output_type": "stream",
     "text": [
      "\n",
      "Concluding Remarks:\n",
      "The Gradient Boosting Classifier displayed the highest mean CV accuracy with a moderate training accuracy, indicating strong generalization. Random Forest, while having a high training accuracy, suggests overfitting potential. The baseline Logistic Regression indicated initial underfitting.\n",
      "\n",
      "Potential Improvements:\n",
      "1. Consider advanced hyperparameter tuning methods such as Bayesian Optimization for further improvements.\n",
      "2. Explore domain-specific feature engineering to capture more relevant insights.\n",
      "3. Apply ensemble methods like stacking for potentially better performance.\n",
      "4. Use deeper analysis tools such as SHAP for interpretability and insight into model decisions.\n",
      "\n",
      "Final Test Score Report:\n",
      "The final test score using the Gradient Boosting Classifier was: 0.8199\n"
     ]
    }
   ],
   "source": [
    "# Step 1: Create a table summarizing important results\n",
    "results = {\n",
    "    'Model': ['Logistic Regression', 'Support Vector Classifier (SVC)', 'Random Forest', 'Gradient Boosting'],\n",
    "    'Training Accuracy': [0.808, 0.774, 0.999, 0.835],\n",
    "    'Mean CV Accuracy': [0.807, 0.774, 0.812, 0.821],\n",
    "    'Test Accuracy': ['Not evaluated', 'Not evaluated', 'Not evaluated', 0.8199],  # Updated with the test score\n",
    "    'CV Std. Dev.': [0.006, 0.0002, 0.003, 0.007],\n",
    "    'Key Observations': [\n",
    "        'Decent training and CV accuracy; slight underfitting present.',\n",
    "        'Balanced performance, low standard deviation; might need optimization.',\n",
    "        'High training accuracy, potential overfitting risk.',\n",
    "        'Best performing model with the highest generalization capability.'\n",
    "    ]\n",
    "}\n",
    "\n",
    "results_df = pd.DataFrame(results)\n",
    "print(\"Summary of Important Results\")\n",
    "display(results_df)\n",
    "\n",
    "print(\"\\nConcluding Remarks:\")\n",
    "print(\"The Gradient Boosting Classifier displayed the highest mean CV accuracy with a moderate training accuracy, indicating strong generalization. Random Forest, while having a high training accuracy, suggests overfitting potential. The baseline Logistic Regression indicated initial underfitting.\")\n",
    "\n",
    "print(\"\\nPotential Improvements:\")\n",
    "print(\"1. Consider advanced hyperparameter tuning methods such as Bayesian Optimization for further improvements.\")\n",
    "print(\"2. Explore domain-specific feature engineering to capture more relevant insights.\")\n",
    "print(\"3. Apply ensemble methods like stacking for potentially better performance.\")\n",
    "print(\"4. Use deeper analysis tools such as SHAP for interpretability and insight into model decisions.\")\n",
    "\n",
    "final_test_score = 0.8199\n",
    "print(\"\\nFinal Test Score Report:\")\n",
    "print(f\"The final test score using the Gradient Boosting Classifier was: {final_test_score:.4f}\")"
   ]
  },
  {
   "cell_type": "code",
   "execution_count": null,
   "metadata": {
    "tags": []
   },
   "outputs": [],
   "source": [
    "..."
   ]
  },
  {
   "cell_type": "markdown",
   "metadata": {
    "deletable": false,
    "editable": false
   },
   "source": [
    "<!-- END QUESTION -->\n",
    "\n",
    "<br><br>"
   ]
  },
  {
   "cell_type": "markdown",
   "metadata": {},
   "source": [
    "<br><br>"
   ]
  },
  {
   "cell_type": "markdown",
   "metadata": {
    "deletable": false,
    "editable": false
   },
   "source": [
    "<!-- BEGIN QUESTION -->\n",
    "\n",
    "## 14. Your takeaway <a name=\"15\"></a>\n",
    "<hr>\n",
    "rubric={points:2}\n",
    "\n",
    "**Your tasks:**\n",
    "\n",
    "What is your biggest takeaway from the supervised machine learning material we have learned so far? Please write thoughtful answers.  "
   ]
  },
  {
   "cell_type": "markdown",
   "metadata": {
    "deletable": false,
    "editable": false
   },
   "source": [
    "<div class=\"alert alert-warning\">\n",
    "    \n",
    "Solution_14\n",
    "    \n",
    "</div>\n",
    "\n",
    "_Points:_ 2"
   ]
  },
  {
   "cell_type": "markdown",
   "metadata": {},
   "source": [
    "A key takeaway from supervised machine learning is understanding the balance between bias and variance and how it impacts model performance. Through practical applications, I’ve learned the importance of cross-validation, hyperparameter tuning, and feature selection to optimize model accuracy while avoiding overfitting or underfitting. Additionally, using tools like SHAP and permutation importance has underscored the value of model interpretability, allowing me to better understand feature contributions and improve trust in predictions. "
   ]
  },
  {
   "cell_type": "markdown",
   "metadata": {
    "deletable": false,
    "editable": false
   },
   "source": [
    "<!-- END QUESTION -->\n",
    "\n",
    "<br><br>"
   ]
  },
  {
   "cell_type": "markdown",
   "metadata": {},
   "source": [
    "**PLEASE READ BEFORE YOU SUBMIT:** \n",
    "\n",
    "When you are ready to submit your assignment do the following:\n",
    "\n",
    "1. Run all cells in your notebook to make sure there are no errors by doing `Kernel -> Restart Kernel and Clear All Outputs` and then `Run -> Run All Cells`. \n",
    "2. Notebooks with cell execution numbers out of order or not starting from \"1\" will have marks deducted. Notebooks without the output displayed may not be graded at all (because we need to see the output in order to grade your work).\n",
    "4. Upload the assignment using Gradescope's drag and drop tool. Check out this [Gradescope Student Guide](https://lthub.ubc.ca/guides/gradescope-student-guide/) if you need help with Gradescope submission. \n",
    "5. Make sure that the plots and output are rendered properly in your submitted file. If the .ipynb file is too big and doesn't render on Gradescope, also upload a pdf or html in addition to the .ipynb so that the TAs can view your submission on Gradescope. "
   ]
  },
  {
   "cell_type": "markdown",
   "metadata": {},
   "source": [
    "This was a tricky one but you did it! "
   ]
  },
  {
   "cell_type": "markdown",
   "metadata": {},
   "source": [
    "![](img/eva-well-done.png)"
   ]
  }
 ],
 "metadata": {
  "kernelspec": {
   "display_name": "Python [conda env:cpsc330] *",
   "language": "python",
   "name": "conda-env-cpsc330-py"
  },
  "language_info": {
   "codemirror_mode": {
    "name": "ipython",
    "version": 3
   },
   "file_extension": ".py",
   "mimetype": "text/x-python",
   "name": "python",
   "nbconvert_exporter": "python",
   "pygments_lexer": "ipython3",
   "version": "3.12.0"
  },
  "otter": {
   "OK_FORMAT": true,
   "tests": {}
  }
 },
 "nbformat": 4,
 "nbformat_minor": 4
}
